{
 "cells": [
  {
   "cell_type": "code",
   "execution_count": 3,
   "id": "c2d99903",
   "metadata": {},
   "outputs": [],
   "source": [
    "from specflow import AnyOf, Condition, Field, Not, OneOf, Schema"
   ]
  },
  {
   "cell_type": "code",
   "execution_count": 2,
   "id": "4254fbdb",
   "metadata": {},
   "outputs": [],
   "source": [
    "name = Field(\n",
    "    \"name\",\n",
    "    description=\"Person's full name\",\n",
    "    min_length=1,\n",
    "    max_length=10,\n",
    "    pattern=r\"^[a-zA-Z\\s\\'-]+$\",\n",
    ")"
   ]
  },
  {
   "cell_type": "code",
   "execution_count": null,
   "id": "aa67fe81",
   "metadata": {},
   "outputs": [],
   "source": [
    "description = Field(\n",
    "    \"description\",\n",
    "    description=\"General description text with special characters allowed\",\n",
    "    min_length=0,\n",
    "    max_length=500,\n",
    ")"
   ]
  },
  {
   "cell_type": "code",
   "execution_count": null,
   "id": "38a43f9b",
   "metadata": {},
   "outputs": [],
   "source": [
    "empty_string = Field(\n",
    "    \"empty_string\",\n",
    "    description=\"Empty string field - demonstrates zero-length string\",\n",
    "    min_length=0,\n",
    "    max_length=0,\n",
    "    default=\"\",\n",
    ")"
   ]
  },
  {
   "cell_type": "code",
   "execution_count": null,
   "id": "12be3fa8",
   "metadata": {},
   "outputs": [],
   "source": [
    "age = Field(\"age\", description=\"Person's age in years\", minimum=0, maximum=150)"
   ]
  },
  {
   "cell_type": "code",
   "execution_count": null,
   "id": "04f1f3b1",
   "metadata": {},
   "outputs": [],
   "source": [
    "price = Field(\n",
    "    \"price\",\n",
    "    description=\"Product price in dollars\",\n",
    "    minimum=0.01,\n",
    "    maximum=999999.99,\n",
    ")"
   ]
  },
  {
   "cell_type": "code",
   "execution_count": null,
   "id": "37938d9b",
   "metadata": {},
   "outputs": [],
   "source": [
    "negative = Field(\n",
    "    \"negative\",\n",
    "    description=\"Negative number example\",\n",
    "    minimum=-1000,\n",
    "    maximum=0,\n",
    ")"
   ]
  },
  {
   "cell_type": "code",
   "execution_count": null,
   "id": "5ada51a9",
   "metadata": {},
   "outputs": [],
   "source": [
    "scientific = Field(\n",
    "    \"scientific\",\n",
    "    description=\"Large number in scientific notation\",\n",
    "    minimum=1.0e9,\n",
    "    maximum=1.0e12,\n",
    ")\n"
   ]
  },
  {
   "cell_type": "code",
   "execution_count": null,
   "id": "3f8c3e45",
   "metadata": {},
   "outputs": [],
   "source": [
    "zero = Field(\n",
    "    \"zero\",\n",
    "    description=\"Zero value - edge case for numeric fields\",\n",
    "    minimum=0,\n",
    "    maximum=0,\n",
    "    default=0,\n",
    ")"
   ]
  },
  {
   "cell_type": "code",
   "execution_count": null,
   "id": "585d5621",
   "metadata": {},
   "outputs": [],
   "source": [
    "is_active = Field(\n",
    "    \"is_active\", description=\"Whether the account is currently active\", default=True\n",
    ")"
   ]
  },
  {
   "cell_type": "code",
   "execution_count": null,
   "id": "a314007b",
   "metadata": {},
   "outputs": [],
   "source": [
    "is_verified = Field(\n",
    "    \"is_verified\",\n",
    "    description=\"Whether the user has verified their email\",\n",
    "    default=False,\n",
    ")"
   ]
  },
  {
   "cell_type": "code",
   "execution_count": null,
   "id": "42b67242",
   "metadata": {},
   "outputs": [],
   "source": [
    "middle_name = Field(\n",
    "    \"middle_name\",\n",
    "    description=\"Person's middle name - optional field\",\n",
    "    min_length=1,\n",
    "    max_length=50,\n",
    "    nullable=True,\n",
    "    default=None,\n",
    ")"
   ]
  },
  {
   "cell_type": "code",
   "execution_count": null,
   "id": "573e986b",
   "metadata": {},
   "outputs": [],
   "source": [
    "optional_field = Field(\n",
    "    \"optional_field\",\n",
    "    description=\"Generic optional field that may be null\",\n",
    "    nullable=True,\n",
    "    default=None,\n",
    ")"
   ]
  },
  {
   "cell_type": "code",
   "execution_count": null,
   "id": "4903b54b",
   "metadata": {},
   "outputs": [],
   "source": [
    "street = Field(\n",
    "    \"street\",\n",
    "    description=\"Street address\",\n",
    "    min_length=1,\n",
    "    max_length=100,\n",
    ")"
   ]
  },
  {
   "cell_type": "code",
   "execution_count": null,
   "id": "ab287980",
   "metadata": {},
   "outputs": [],
   "source": [
    "city = Field(\n",
    "    \"city\",\n",
    "    description=\"City name\",\n",
    "    min_length=1,\n",
    "    max_length=50,\n",
    ")"
   ]
  },
  {
   "cell_type": "code",
   "execution_count": null,
   "id": "4cf39b85",
   "metadata": {},
   "outputs": [],
   "source": [
    "zip_ = Field(\n",
    "    \"zip_\",\n",
    "    description=\"ZIP or postal code\",\n",
    "    pattern=r\"^\\d{5}(-\\d{4})?$\",\n",
    ")"
   ]
  },
  {
   "cell_type": "code",
   "execution_count": null,
   "id": "969d9e1f",
   "metadata": {},
   "outputs": [],
   "source": [
    "country = Field(\n",
    "    \"country\",\n",
    "    description=\"Country code (ISO 3166-1 alpha-2)\",\n",
    "    min_length=2,\n",
    "    max_length=2,\n",
    "    pattern=r\"^[A-Z]{2}$\",\n",
    ")"
   ]
  },
  {
   "cell_type": "code",
   "execution_count": null,
   "id": "10464308",
   "metadata": {},
   "outputs": [],
   "source": [
    "adress = Schema(\n",
    "    \"adress\",\n",
    "    properties=[\n",
    "        street,\n",
    "        city,\n",
    "        zip_,\n",
    "        country,\n",
    "    ],\n",
    "    conditions=[\n",
    "        Condition(\n",
    "            if_=Field(\"zip_\", type_=\"string\"),\n",
    "            then_=Field(\"zip_\", type_=\"string\"),\n",
    "        ),\n",
    "    ],\n",
    ")"
   ]
  },
  {
   "cell_type": "code",
   "execution_count": null,
   "id": "afe6116e",
   "metadata": {},
   "outputs": [],
   "source": [
    "##\n",
    "root = Schema(\n",
    "    \"root\",\n",
    "    description=\"This is the root Schema.\",\n",
    "    properties=[\n",
    "        name,\n",
    "        description,\n",
    "        empty_string,\n",
    "        age,\n",
    "        price,\n",
    "        negative,\n",
    "        scientific,\n",
    "        zero,\n",
    "        is_active,\n",
    "        is_verified,\n",
    "        middle_name,\n",
    "        AnyOf(\n",
    "            optional_field,\n",
    "            adress,\n",
    "        ),\n",
    "        Field(title=\"adresses\", items=adress),\n",
    "    ],\n",
    ")\n",
    "\n",
    "root(\n",
    "    {\n",
    "        \"name\": \"Joe\",\n",
    "        \"description\": \"Marketing professional specializing in digital campaigns.\",\n",
    "        \"empty_string\": \"\",\n",
    "        \"age\": 28,\n",
    "        \"price\": 1500.50,\n",
    "        \"negative\": -100,\n",
    "        \"scientific\": 1.5e11,\n",
    "        \"zero\": 0,\n",
    "        \"is_active\": True,\n",
    "        \"is_verified\": True,\n",
    "        \"middle_name\": \"Marie\",\n",
    "        \"adress\": {\n",
    "            \"street\": \"123 Main Street\",\n",
    "            \"city\": \"New York\",\n",
    "            \"zip_\": \"10001\",\n",
    "            \"country\": \"US\",\n",
    "        },\n",
    "        \"adresses\": [\n",
    "            {\n",
    "                \"street\": \"123 Main Street\",\n",
    "                \"city\": \"New York\",\n",
    "                \"zip_\": \"10001\",\n",
    "                \"country\": \"US\",\n",
    "            }\n",
    "        ],\n",
    "    },\n",
    ")"
   ]
  }
 ],
 "metadata": {
  "kernelspec": {
   "display_name": "specflow",
   "language": "python",
   "name": "python3"
  },
  "language_info": {
   "codemirror_mode": {
    "name": "ipython",
    "version": 3
   },
   "file_extension": ".py",
   "mimetype": "text/x-python",
   "name": "python",
   "nbconvert_exporter": "python",
   "pygments_lexer": "ipython3",
   "version": "3.10.18"
  }
 },
 "nbformat": 4,
 "nbformat_minor": 5
}
